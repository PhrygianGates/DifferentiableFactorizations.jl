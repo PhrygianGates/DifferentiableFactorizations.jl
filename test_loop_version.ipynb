{
 "cells": [
  {
   "cell_type": "code",
   "execution_count": 1,
   "metadata": {},
   "outputs": [],
   "source": [
    "using DifferentiableFactorizations, LinearAlgebra, ComponentArrays"
   ]
  },
  {
   "cell_type": "code",
   "execution_count": 2,
   "metadata": {},
   "outputs": [
    {
     "data": {
      "text/plain": [
       "5×3 Matrix{Float64}:\n",
       " 0.956663  0.709191  0.997825\n",
       " 0.162243  0.480874  0.162824\n",
       " 0.298358  0.518527  0.910157\n",
       " 0.631994  0.264437  0.421783\n",
       " 0.342308  0.612628  0.586"
      ]
     },
     "metadata": {},
     "output_type": "display_data"
    }
   ],
   "source": [
    "A = rand(5, 3)"
   ]
  },
  {
   "cell_type": "code",
   "execution_count": 3,
   "metadata": {},
   "outputs": [
    {
     "data": {
      "text/plain": [
       "(Q = [-0.7691211696761429 0.14227750042512496 -0.006945868722774057; -0.13043761284976144 -0.563934959784967 0.6107103529403375; … ; -0.508099221657185 0.4267890986967863 0.15597740732173246; -0.2752030824270174 -0.5343306124780337 0.1115876299570795], R = [-1.2438394127769836 -1.035513742339441 -1.3825816849669903; 0.0 -0.6131991238279286 -0.48392064885984254; 0.0 0.0 -0.4755391870263819])"
      ]
     },
     "metadata": {},
     "output_type": "display_data"
    }
   ],
   "source": [
    "x = diff_qr(A)\n",
    "(; Q, R) = x"
   ]
  },
  {
   "cell_type": "code",
   "execution_count": 4,
   "metadata": {},
   "outputs": [
    {
     "name": "stdout",
     "output_type": "stream",
     "text": [
      "  2.311390 seconds (5.85 M allocations: 266.937 MiB, 6.47% gc time, 99.81% compilation time)\n"
     ]
    },
    {
     "data": {
      "text/plain": [
       "24-element Vector{Float64}:\n",
       "  0.0\n",
       "  0.0\n",
       "  0.0\n",
       " -7.085092828162905e-17\n",
       " -2.220446049250313e-16\n",
       "  0.0\n",
       "  4.6449410103673015e-17\n",
       "  6.96194973671492e-17\n",
       "  4.996003610813204e-16\n",
       "  1.1102230246251565e-16\n",
       "  ⋮\n",
       " -1.1102230246251565e-16\n",
       "  0.0\n",
       "  1.1102230246251565e-16\n",
       "  0.0\n",
       "  1.1102230246251565e-16\n",
       " -1.6653345369377348e-16\n",
       "  1.1102230246251565e-16\n",
       "  5.551115123125783e-17\n",
       " -1.1102230246251565e-16"
      ]
     },
     "metadata": {},
     "output_type": "display_data"
    }
   ],
   "source": [
    "@time begin\n",
    "    vcat(\n",
    "        vec(UpperTriangular(Q' * Q) + LowerTriangular(R) - I - Diagonal(R)),\n",
    "        vec(Q * R - A),\n",
    "    )\n",
    "end"
   ]
  },
  {
   "cell_type": "code",
   "execution_count": 5,
   "metadata": {},
   "outputs": [
    {
     "name": "stdout",
     "output_type": "stream",
     "text": [
      "  0.023781 seconds (2.46 k allocations: 131.417 KiB, 98.84% compilation time)\n"
     ]
    },
    {
     "data": {
      "text/plain": [
       "24-element Vector{Float64}:\n",
       " -1.1102230246251565e-16\n",
       "  0.0\n",
       " -5.551115123125783e-17\n",
       "  0.0\n",
       "  0.0\n",
       " -1.5265566588595902e-16\n",
       "  1.1102230246251565e-16\n",
       " -5.551115123125783e-17\n",
       " -1.1102230246251565e-16\n",
       "  0.0\n",
       "  ⋮\n",
       "  2.7755575615628914e-17\n",
       "  0.0\n",
       "  0.0\n",
       "  8.326672684688674e-17\n",
       "  2.220446049250313e-16\n",
       "  0.0\n",
       " -4.5102810375396984e-17\n",
       " -8.326672684688674e-17\n",
       " -4.961309141293668e-16"
      ]
     },
     "metadata": {},
     "output_type": "display_data"
    }
   ],
   "source": [
    "@time begin\n",
    "    m, n = size(A, 1), size(A, 2)\n",
    "    res_A = copy(A)\n",
    "    res_R = Matrix{eltype(A)}(I, n, n)\n",
    "    for i in 1:m\n",
    "      for j in 1:n\n",
    "        for k in 1:n\n",
    "          res_A[i, j] -= Q[i, k] * R[k, j]\n",
    "          if i == 1 && j < k                                                                                                     \n",
    "            res_R[k, j] += R[k, j]\n",
    "          end\n",
    "          if j <= k\n",
    "            res_R[j, k] -= Q[i, k] * Q[i, j]\n",
    "          end\n",
    "        end\n",
    "      end\n",
    "    end\n",
    "    vcat(vec(res_A), vec(res_R))\n",
    "end"
   ]
  }
 ],
 "metadata": {
  "kernelspec": {
   "display_name": "Julia 1.8.5",
   "language": "julia",
   "name": "julia-1.8"
  },
  "language_info": {
   "file_extension": ".jl",
   "mimetype": "application/julia",
   "name": "julia",
   "version": "1.8.5"
  },
  "orig_nbformat": 4
 },
 "nbformat": 4,
 "nbformat_minor": 2
}
