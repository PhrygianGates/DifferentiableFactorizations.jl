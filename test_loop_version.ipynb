{
 "cells": [
  {
   "cell_type": "code",
   "execution_count": 1,
   "metadata": {},
   "outputs": [],
   "source": [
    "using DifferentiableFactorizations, LinearAlgebra, BenchmarkTools"
   ]
  },
  {
   "cell_type": "code",
   "execution_count": 2,
   "metadata": {},
   "outputs": [
    {
     "data": {
      "text/plain": [
       "5×3 Matrix{Float64}:\n",
       " 0.845842  0.336823  0.357544\n",
       " 0.613874  0.240528  0.26055\n",
       " 0.466771  0.555022  0.839431\n",
       " 0.950547  0.848541  0.661852\n",
       " 0.215324  0.332352  0.458818"
      ]
     },
     "metadata": {},
     "output_type": "display_data"
    }
   ],
   "source": [
    "A = rand(5, 3)"
   ]
  },
  {
   "cell_type": "code",
   "execution_count": 3,
   "metadata": {},
   "outputs": [
    {
     "data": {
      "text/plain": [
       "(Q = [-0.5626374246916124 -0.534996307457174 -0.1911014807447391; -0.4083366324798291 -0.3966473451485766 -0.15515095867580989; … ; -0.6322846838906959 0.4019384118687258 0.6553688308465081; -0.14322894073275036 0.39013799552116596 -0.25072771501405505], R = [-1.503352449296859 -1.0441742589767813 -1.0523860311291044; 0.0 0.46854259144961447 0.5639264134096169; 0.0 0.0 -0.35128271153871443])"
      ]
     },
     "metadata": {},
     "output_type": "display_data"
    }
   ],
   "source": [
    "x = diff_qr(A)\n",
    "(; Q, R) = x"
   ]
  },
  {
   "cell_type": "code",
   "execution_count": 19,
   "metadata": {},
   "outputs": [
    {
     "name": "stdout",
     "output_type": "stream",
     "text": [
      "  1.995 μs (18 allocations: 1.73 KiB)\n"
     ]
    },
    {
     "data": {
      "text/plain": [
       "24-element Vector{Float64}:\n",
       "  0.0\n",
       "  0.0\n",
       "  0.0\n",
       "  2.2744458677460948e-17\n",
       " -7.216449660063518e-16\n",
       "  0.0\n",
       " -1.0063670186567891e-16\n",
       " -1.0261983105514117e-16\n",
       "  3.885780586188048e-16\n",
       "  3.3306690738754696e-16\n",
       "  ⋮\n",
       "  1.3877787807814457e-16\n",
       "  0.0\n",
       "  1.1102230246251565e-16\n",
       "  0.0\n",
       "  1.6653345369377348e-16\n",
       "  4.440892098500626e-16\n",
       " -2.220446049250313e-16\n",
       "  0.0\n",
       " -1.6653345369377348e-16"
      ]
     },
     "metadata": {},
     "output_type": "display_data"
    }
   ],
   "source": [
    "@benchmark begin\n",
    "    vcat(\n",
    "        vec(UpperTriangular(Q' * Q) + LowerTriangular(R) - I - Diagonal(R)),\n",
    "        vec(Q * R - A),\n",
    "    )\n",
    "end"
   ]
  },
  {
   "cell_type": "code",
   "execution_count": 18,
   "metadata": {},
   "outputs": [
    {
     "name": "stdout",
     "output_type": "stream",
     "text": [
      "  16.774 μs (488 allocations: 9.58 KiB)\n"
     ]
    },
    {
     "data": {
      "text/plain": [
       "24-element Vector{Float64}:\n",
       " -3.3306690738754696e-16\n",
       "  0.0\n",
       "  0.0\n",
       "  0.0\n",
       "  0.0\n",
       " -1.3530843112619095e-16\n",
       "  0.0\n",
       "  0.0\n",
       " -1.6653345369377348e-16\n",
       " -1.3877787807814457e-16\n",
       "  ⋮\n",
       "  0.0\n",
       " -1.6653345369377348e-16\n",
       " -4.2327252813834093e-16\n",
       "  2.220446049250313e-16\n",
       "  5.551115123125783e-17\n",
       "  1.6653345369377348e-16\n",
       "  9.020562075079397e-17\n",
       "  9.71445146547012e-17\n",
       " -3.885780586188048e-16"
      ]
     },
     "metadata": {},
     "output_type": "display_data"
    }
   ],
   "source": [
    "@benchmark begin\n",
    "  m, n = size(A, 1), size(A, 2)\n",
    "  res = similar(A, m + n, n)\n",
    "  res_A = view(res, 1:m, :)\n",
    "  res_R = view(res, m+1:m+n, :)\n",
    "  copyto!(res_A, A)\n",
    "  fill!(res_R, 0)\n",
    "  for i in 1:min(m, n)\n",
    "    res_R[i, i] = 1\n",
    "  end\n",
    "  for i in 1:m\n",
    "    for j in 1:n\n",
    "      for k in 1:n\n",
    "        res_A[i, j] -= Q[i, k] * R[k, j]\n",
    "        if i == 1 && j < k\n",
    "          res_R[k, j] += R[k, j]\n",
    "        end\n",
    "        if j <= k\n",
    "          res_R[j, k] -= Q[i, k] * Q[i, j]\n",
    "        end\n",
    "      end\n",
    "    end\n",
    "  end\n",
    "  vec(res)\n",
    "end"
   ]
  }
 ],
 "metadata": {
  "kernelspec": {
   "display_name": "Julia 1.8.5",
   "language": "julia",
   "name": "julia-1.8"
  },
  "language_info": {
   "file_extension": ".jl",
   "mimetype": "application/julia",
   "name": "julia",
   "version": "1.8.5"
  },
  "orig_nbformat": 4
 },
 "nbformat": 4,
 "nbformat_minor": 2
}
